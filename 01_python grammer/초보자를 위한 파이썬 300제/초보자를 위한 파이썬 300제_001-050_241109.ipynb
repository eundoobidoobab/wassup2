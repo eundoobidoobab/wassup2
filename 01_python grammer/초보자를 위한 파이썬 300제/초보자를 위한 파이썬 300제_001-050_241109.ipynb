{
 "cells": [
  {
   "cell_type": "markdown",
   "id": "af988bc7",
   "metadata": {},
   "source": [
    "# 1-10"
   ]
  },
  {
   "cell_type": "markdown",
   "id": "ae8acb2a",
   "metadata": {},
   "source": [
    "화면에 Hello World 문자열을 출력하세요."
   ]
  },
  {
   "cell_type": "code",
   "execution_count": 1,
   "id": "324d2c80",
   "metadata": {},
   "outputs": [
    {
     "name": "stdout",
     "output_type": "stream",
     "text": [
      "Hello World\n"
     ]
    }
   ],
   "source": [
    "print(\"Hello World\")"
   ]
  },
  {
   "cell_type": "markdown",
   "id": "9f6a62d5",
   "metadata": {},
   "source": [
    "화면에 Mary's cosmetics을 출력하세요. (중간에 '가 있음에 주의하세요)"
   ]
  },
  {
   "cell_type": "code",
   "execution_count": 2,
   "id": "e16f43ef",
   "metadata": {},
   "outputs": [
    {
     "name": "stdout",
     "output_type": "stream",
     "text": [
      "Mary's cosmetics\n"
     ]
    }
   ],
   "source": [
    "print(\"Mary's cosmetics\")"
   ]
  },
  {
   "cell_type": "markdown",
   "id": "d3b1c951",
   "metadata": {},
   "source": [
    "화면에 아래 문장을 출력하세요. (중간에 \"가 있음에 주의하세요.)\n",
    "\n",
    "신씨가 소리질렀다. \"도둑이야\"."
   ]
  },
  {
   "cell_type": "code",
   "execution_count": 3,
   "id": "c1b0c7dd",
   "metadata": {},
   "outputs": [
    {
     "name": "stdout",
     "output_type": "stream",
     "text": [
      "신씨가 소리질렀다. \"도둑이야\"\n"
     ]
    }
   ],
   "source": [
    "print('''신씨가 소리질렀다. \"도둑이야\"''')"
   ]
  },
  {
   "cell_type": "markdown",
   "id": "6111370f",
   "metadata": {},
   "source": [
    "화면에 C:\\Windows를 출력하세요."
   ]
  },
  {
   "cell_type": "code",
   "execution_count": 4,
   "id": "2f47c465",
   "metadata": {},
   "outputs": [
    {
     "name": "stdout",
     "output_type": "stream",
     "text": [
      "C:\\Windows\n"
     ]
    }
   ],
   "source": [
    "print(\"C:\\Windows\")"
   ]
  },
  {
   "cell_type": "markdown",
   "id": "9c92b524",
   "metadata": {},
   "source": [
    "다음 코드를 실행해보고 \\t와 \\n의 역할을 설명해보세요.\n",
    "\n",
    "print(\"안녕하세요.\\n만나서\\t\\t반갑습니다.\")"
   ]
  },
  {
   "cell_type": "code",
   "execution_count": 5,
   "id": "8a0010d1",
   "metadata": {},
   "outputs": [
    {
     "name": "stdout",
     "output_type": "stream",
     "text": [
      "안녕하세요.\n",
      "만나서\t\t반갑습니다.\n"
     ]
    }
   ],
   "source": [
    "print(\"안녕하세요.\\n만나서\\t\\t반갑습니다.\")"
   ]
  },
  {
   "cell_type": "markdown",
   "id": "c3752de8",
   "metadata": {},
   "source": [
    "print 함수에 두 개의 단어를 입력한 예제입니다. 아래 코드의 출력 결과를 예상해봅시다.\n",
    "\n",
    "print (\"오늘은\", \"일요일\")"
   ]
  },
  {
   "cell_type": "code",
   "execution_count": 6,
   "id": "c90999be",
   "metadata": {},
   "outputs": [
    {
     "name": "stdout",
     "output_type": "stream",
     "text": [
      "오늘은 일요일\n"
     ]
    }
   ],
   "source": [
    "print (\"오늘은\", \"일요일\")"
   ]
  },
  {
   "cell_type": "markdown",
   "id": "71cf30cd",
   "metadata": {},
   "source": [
    "print() 함수를 사용하여 다음과 같이 출력하세요.\n",
    "\n",
    "naver;kakao;sk;samsung"
   ]
  },
  {
   "cell_type": "code",
   "execution_count": 9,
   "id": "a006a6b2",
   "metadata": {},
   "outputs": [
    {
     "name": "stdout",
     "output_type": "stream",
     "text": [
      "naver;kakao;samsung\n"
     ]
    }
   ],
   "source": [
    "print('naver', 'kakao', 'samsung', sep = ';')"
   ]
  },
  {
   "cell_type": "markdown",
   "id": "b3a75daf",
   "metadata": {},
   "source": [
    "print() 함수를 사용하여 다음과 같이 출력하세요.\n",
    "\n",
    "naver/kakao/sk/samsung"
   ]
  },
  {
   "cell_type": "code",
   "execution_count": 10,
   "id": "2adcbb4d",
   "metadata": {},
   "outputs": [
    {
     "name": "stdout",
     "output_type": "stream",
     "text": [
      "naver/kakao/samsung\n"
     ]
    }
   ],
   "source": [
    "print('naver', 'kakao', 'samsung', sep = '/')"
   ]
  },
  {
   "cell_type": "markdown",
   "id": "e393c2b4",
   "metadata": {},
   "source": [
    "다음 코드를 수정하여 줄바꿈이 없이 출력하세요. (힌트: end='') print 함수는 두 번 사용합니다. 세미콜론 (;)은 한줄에 여러 개의 명령을 작성하기 위해 사용합니다.\n",
    "\n",
    "print(\"first\");print(\"second\")"
   ]
  },
  {
   "cell_type": "code",
   "execution_count": 12,
   "id": "afef201f",
   "metadata": {},
   "outputs": [
    {
     "name": "stdout",
     "output_type": "stream",
     "text": [
      "firstsecond\n"
     ]
    }
   ],
   "source": [
    "print(\"first\", end=\"\"); print(\"second\")"
   ]
  },
  {
   "cell_type": "markdown",
   "id": "f1ce8f73",
   "metadata": {},
   "source": [
    "5/3의 결과를 화면에 출력하세요."
   ]
  },
  {
   "cell_type": "code",
   "execution_count": 13,
   "id": "6dff1e4b",
   "metadata": {},
   "outputs": [
    {
     "name": "stdout",
     "output_type": "stream",
     "text": [
      "1.6666666666666667\n"
     ]
    }
   ],
   "source": [
    "a = 5\n",
    "b = 3\n",
    "print(a/b)"
   ]
  },
  {
   "cell_type": "markdown",
   "id": "70418d01",
   "metadata": {},
   "source": [
    "# 11-20"
   ]
  },
  {
   "cell_type": "markdown",
   "id": "952f90fa",
   "metadata": {},
   "source": [
    "삼성전자라는 변수로 50,000원을 바인딩해보세요. 삼성전자 주식 10주를 보유하고 있을 때 총 평가금액을 출력하세요."
   ]
  },
  {
   "cell_type": "code",
   "execution_count": 14,
   "id": "f46fb913",
   "metadata": {},
   "outputs": [
    {
     "data": {
      "text/plain": [
       "500000"
      ]
     },
     "execution_count": 14,
     "metadata": {},
     "output_type": "execute_result"
    }
   ],
   "source": [
    "삼성전자 = 50000\n",
    "삼성전자*10"
   ]
  },
  {
   "cell_type": "markdown",
   "id": "63d3c005",
   "metadata": {},
   "source": [
    "다음 표는 삼성전자의 일부 투자정보입니다. 변수를 사용해서 시가총액, 현재가, PER 등을 바인딩해보세요."
   ]
  },
  {
   "cell_type": "code",
   "execution_count": 16,
   "id": "da3cfb72",
   "metadata": {},
   "outputs": [
    {
     "name": "stdout",
     "output_type": "stream",
     "text": [
      "298조 50000 15.79\n"
     ]
    }
   ],
   "source": [
    "시가총액 = '298조'\n",
    "현재가 = 50000\n",
    "PER = 15.79\n",
    "print(시가총액, 현재가, PER)"
   ]
  },
  {
   "cell_type": "code",
   "execution_count": null,
   "id": "a2e5bf7c",
   "metadata": {},
   "outputs": [],
   "source": []
  }
 ],
 "metadata": {
  "kernelspec": {
   "display_name": "Python 3 (ipykernel)",
   "language": "python",
   "name": "python3"
  },
  "language_info": {
   "codemirror_mode": {
    "name": "ipython",
    "version": 3
   },
   "file_extension": ".py",
   "mimetype": "text/x-python",
   "name": "python",
   "nbconvert_exporter": "python",
   "pygments_lexer": "ipython3",
   "version": "3.11.5"
  },
  "toc": {
   "base_numbering": 1,
   "nav_menu": {},
   "number_sections": true,
   "sideBar": true,
   "skip_h1_title": false,
   "title_cell": "Table of Contents",
   "title_sidebar": "Contents",
   "toc_cell": false,
   "toc_position": {},
   "toc_section_display": true,
   "toc_window_display": false
  }
 },
 "nbformat": 4,
 "nbformat_minor": 5
}

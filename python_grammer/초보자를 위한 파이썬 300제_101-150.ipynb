{
 "cells": [
  {
   "cell_type": "markdown",
   "id": "e68440e8",
   "metadata": {},
   "source": [
    "# 101-110"
   ]
  },
  {
   "cell_type": "code",
   "execution_count": 6,
   "id": "3dd9a5e3",
   "metadata": {},
   "outputs": [],
   "source": [
    "# 파이썬에서 True 혹은 False를 갖는 데이터 타입은 무엇인가?"
   ]
  },
  {
   "cell_type": "code",
   "execution_count": 7,
   "id": "1e62323b",
   "metadata": {},
   "outputs": [
    {
     "data": {
      "text/plain": [
       "bool"
      ]
     },
     "execution_count": 7,
     "metadata": {},
     "output_type": "execute_result"
    }
   ],
   "source": [
    "bool"
   ]
  },
  {
   "cell_type": "code",
   "execution_count": 8,
   "id": "fa3424bd",
   "metadata": {},
   "outputs": [
    {
     "name": "stdout",
     "output_type": "stream",
     "text": [
      "False\n"
     ]
    }
   ],
   "source": [
    "print(3 == 5)\n",
    "# false"
   ]
  },
  {
   "cell_type": "code",
   "execution_count": 9,
   "id": "9024859d",
   "metadata": {},
   "outputs": [
    {
     "name": "stdout",
     "output_type": "stream",
     "text": [
      "True\n"
     ]
    }
   ],
   "source": [
    "print(3 < 5)\n",
    "# True"
   ]
  },
  {
   "cell_type": "code",
   "execution_count": 10,
   "id": "0827e8f7",
   "metadata": {},
   "outputs": [
    {
     "name": "stdout",
     "output_type": "stream",
     "text": [
      "True\n"
     ]
    }
   ],
   "source": [
    "x = 4\n",
    "print(1 < x < 5)\n",
    "#true"
   ]
  },
  {
   "cell_type": "code",
   "execution_count": 11,
   "id": "b80d41d1",
   "metadata": {},
   "outputs": [
    {
     "name": "stdout",
     "output_type": "stream",
     "text": [
      "True\n"
     ]
    }
   ],
   "source": [
    "print ((3 == 3) and (4 != 3))\n",
    "#true"
   ]
  },
  {
   "cell_type": "code",
   "execution_count": 13,
   "id": "219207b4",
   "metadata": {},
   "outputs": [
    {
     "ename": "SyntaxError",
     "evalue": "expression cannot contain assignment, perhaps you meant \"==\"? (1916551708.py, line 1)",
     "output_type": "error",
     "traceback": [
      "\u001b[1;36m  Cell \u001b[1;32mIn[13], line 1\u001b[1;36m\u001b[0m\n\u001b[1;33m    print(3 => 4)\u001b[0m\n\u001b[1;37m          ^\u001b[0m\n\u001b[1;31mSyntaxError\u001b[0m\u001b[1;31m:\u001b[0m expression cannot contain assignment, perhaps you meant \"==\"?\n"
     ]
    }
   ],
   "source": [
    "print(3 => 4)\n",
    "# 비교문이 아님"
   ]
  },
  {
   "cell_type": "code",
   "execution_count": 15,
   "id": "4f28efc5",
   "metadata": {},
   "outputs": [],
   "source": [
    "if 4 < 3:\n",
    "    print(\"Hello World\")\n",
    "# 출력값 없음, 왜냐하면 true일 경우에만 출력되는데 true가 아니기 때문"
   ]
  },
  {
   "cell_type": "code",
   "execution_count": 16,
   "id": "9ee90b64",
   "metadata": {},
   "outputs": [
    {
     "name": "stdout",
     "output_type": "stream",
     "text": [
      "Hi, there.\n"
     ]
    }
   ],
   "source": [
    "if 4 < 3:\n",
    "    print(\"Hello World.\")\n",
    "else:\n",
    "    print(\"Hi, there.\")\n",
    "# Hi there가 프린트됨"
   ]
  },
  {
   "cell_type": "code",
   "execution_count": 17,
   "id": "6b993299",
   "metadata": {},
   "outputs": [
    {
     "name": "stdout",
     "output_type": "stream",
     "text": [
      "1\n",
      "2\n",
      "4\n"
     ]
    }
   ],
   "source": [
    "if True :\n",
    "    print (\"1\")\n",
    "    print (\"2\")\n",
    "else :\n",
    "    print(\"3\")\n",
    "print(\"4\")"
   ]
  },
  {
   "cell_type": "code",
   "execution_count": 18,
   "id": "84e486bd",
   "metadata": {},
   "outputs": [
    {
     "name": "stdout",
     "output_type": "stream",
     "text": [
      "3\n",
      "5\n"
     ]
    }
   ],
   "source": [
    "if True :\n",
    "    if False:\n",
    "        print(\"1\")\n",
    "        print(\"2\")\n",
    "    else:\n",
    "        print(\"3\")\n",
    "else :\n",
    "    print(\"4\")\n",
    "print(\"5\")"
   ]
  },
  {
   "cell_type": "code",
   "execution_count": 19,
   "id": "c7bf77a8",
   "metadata": {},
   "outputs": [],
   "source": [
    "# true라고 이미 선언해주었기 때문에 false값은 출력되지 않고 else만 출력됨"
   ]
  },
  {
   "cell_type": "markdown",
   "id": "2d673a7c",
   "metadata": {},
   "source": [
    "# 111-120"
   ]
  },
  {
   "cell_type": "code",
   "execution_count": 21,
   "id": "1de70842",
   "metadata": {},
   "outputs": [
    {
     "name": "stdout",
     "output_type": "stream",
     "text": [
      "안녕하세요\n"
     ]
    },
    {
     "data": {
      "text/plain": [
       "'안녕하세요안녕하세요'"
      ]
     },
     "execution_count": 21,
     "metadata": {},
     "output_type": "execute_result"
    }
   ],
   "source": [
    "a = input()\n",
    "a*2"
   ]
  },
  {
   "cell_type": "code",
   "execution_count": 28,
   "id": "41d83c14",
   "metadata": {},
   "outputs": [
    {
     "name": "stdout",
     "output_type": "stream",
     "text": [
      "숫자를 입력하세요: 1\n"
     ]
    },
    {
     "data": {
      "text/plain": [
       "11"
      ]
     },
     "execution_count": 28,
     "metadata": {},
     "output_type": "execute_result"
    }
   ],
   "source": [
    "a = input(\"숫자를 입력하세요: \")\n",
    "int(a) + 10"
   ]
  },
  {
   "cell_type": "code",
   "execution_count": 30,
   "id": "ef42b25a",
   "metadata": {},
   "outputs": [
    {
     "name": "stdout",
     "output_type": "stream",
     "text": [
      "45\n",
      "홀수\n"
     ]
    }
   ],
   "source": [
    "a = input()\n",
    "if int(a) % 2 == 0:\n",
    "    print(\"짝수\")\n",
    "else:\n",
    "    print(\"홀수\")"
   ]
  },
  {
   "cell_type": "markdown",
   "id": "291609c5",
   "metadata": {},
   "source": [
    "사용자로부터 값을 입력받은 후 해당 값에 20을 더한 값을 출력하라. 단 사용자가 입력한 값과 20을 더한 계산 값이 255를 초과하는 경우 255를 출력해야 한다."
   ]
  },
  {
   "cell_type": "code",
   "execution_count": 39,
   "id": "b1b7e6a2",
   "metadata": {},
   "outputs": [
    {
     "name": "stdout",
     "output_type": "stream",
     "text": [
      "300\n",
      "255\n"
     ]
    }
   ],
   "source": [
    "a = input()\n",
    "b = (int(a) + 20)\n",
    "if b < 255:\n",
    "    print(b)\n",
    "else:\n",
    "    print(255)"
   ]
  },
  {
   "cell_type": "code",
   "execution_count": 47,
   "id": "5a612597",
   "metadata": {},
   "outputs": [
    {
     "name": "stdout",
     "output_type": "stream",
     "text": [
      "59\n",
      "39\n"
     ]
    }
   ],
   "source": [
    "a = input()\n",
    "b = (int(a)-20)\n",
    "if b < 0:\n",
    "    print(0)\n",
    "elif b > 255:\n",
    "    print(255)\n",
    "else:\n",
    "    print(b)"
   ]
  },
  {
   "cell_type": "code",
   "execution_count": 53,
   "id": "b2ed5f19",
   "metadata": {},
   "outputs": [
    {
     "name": "stdout",
     "output_type": "stream",
     "text": [
      "현재시간: 05:00\n",
      "정각입니다.\n"
     ]
    }
   ],
   "source": [
    "time = input(\"현재시간: \")\n",
    "if time[-2:] == \"00\":\n",
    "    print(\"정각입니다.\")\n",
    "else:\n",
    "    print(\"정각이 아닙니다.\")"
   ]
  },
  {
   "cell_type": "code",
   "execution_count": 56,
   "id": "01c40992",
   "metadata": {},
   "outputs": [
    {
     "name": "stdout",
     "output_type": "stream",
     "text": [
      "좋아하는 과일은? : 파인애플\n",
      "오답입니다.\n"
     ]
    }
   ],
   "source": [
    "fruit = [\"사과\", \"포도\", \"홍시\"]\n",
    "\n",
    "a = input(\"좋아하는 과일은? : \")\n",
    "if a in fruit:\n",
    "    print(\"정답입니다.\")\n",
    "else:\n",
    "    print(\"오답입니다.\")"
   ]
  },
  {
   "cell_type": "code",
   "execution_count": 58,
   "id": "29301ffc",
   "metadata": {},
   "outputs": [
    {
     "name": "stdout",
     "output_type": "stream",
     "text": [
      "Microsoft\n",
      "투자 경고 종목입니다.\n"
     ]
    }
   ],
   "source": [
    "warn_investment_list = [\"Microsoft\", \"Google\", \"Naver\", \"Kakao\", \"SAMSUNG\", \"LG\"]\n",
    "\n",
    "a = input()\n",
    "if a in warn_investment_list:\n",
    "    print(\"투자 경고 종목입니다.\")\n",
    "else:\n",
    "    print(\"투자 경고 종목이 아닙니다.\")"
   ]
  },
  {
   "cell_type": "code",
   "execution_count": 61,
   "id": "09ca1596",
   "metadata": {},
   "outputs": [
    {
     "name": "stdout",
     "output_type": "stream",
     "text": [
      "제가좋아하는계절은: 봄\n",
      "정답입니다\n"
     ]
    }
   ],
   "source": [
    "fruit = {\"봄\" : \"딸기\", \"여름\" : \"토마토\", \"가을\" : \"사과\"}\n",
    "\n",
    "a = input(\"제가좋아하는계절은: \")\n",
    "if a in fruit:\n",
    "    print(\"정답입니다\")\n",
    "else:\n",
    "    print(\"오답입니다\")"
   ]
  },
  {
   "cell_type": "code",
   "execution_count": 63,
   "id": "e43b1aa9",
   "metadata": {},
   "outputs": [
    {
     "name": "stdout",
     "output_type": "stream",
     "text": [
      "좋아하는과일은? : 딸기\n",
      "정답입니다\n"
     ]
    }
   ],
   "source": [
    "fruit = {\"봄\" : \"딸기\", \"여름\" : \"토마토\", \"가을\" : \"사과\"}\n",
    "\n",
    "a = input(\"좋아하는과일은? : \")\n",
    "if a in fruit.values():\n",
    "    print(\"정답입니다\")\n",
    "else:\n",
    "    print(\"오답입니다\")"
   ]
  },
  {
   "cell_type": "markdown",
   "id": "4ac9bb97",
   "metadata": {},
   "source": [
    "# 121-130"
   ]
  },
  {
   "cell_type": "code",
   "execution_count": 69,
   "id": "43518eb3",
   "metadata": {},
   "outputs": [
    {
     "name": "stdout",
     "output_type": "stream",
     "text": [
      "A\n",
      "a\n"
     ]
    }
   ],
   "source": [
    "a = input()\n",
    "if a.islower():\n",
    "    print(a.upper())\n",
    "else:\n",
    "    print(a.lower())"
   ]
  },
  {
   "cell_type": "code",
   "execution_count": 75,
   "id": "9d94bce8",
   "metadata": {},
   "outputs": [
    {
     "name": "stdout",
     "output_type": "stream",
     "text": [
      "50\n",
      "grade is C\n"
     ]
    }
   ],
   "source": [
    "score = input()\n",
    "score = int(score)\n",
    "if 81 <= score < 100:\n",
    "    print(\"grade is A\")\n",
    "elif 61 <= score < 80:\n",
    "    print(\"grade is B\")\n",
    "elif 41 <= score < 60:\n",
    "    print(\"grade is C\")\n",
    "elif 21 <= score < 40:\n",
    "    print(\"grade is D\")\n",
    "elif 0 <= score < 20:\n",
    "    print(\"grade is E\")\n",
    "else:\n",
    "    print(\"점수를 다시 확인하세요\")"
   ]
  },
  {
   "cell_type": "code",
   "execution_count": 76,
   "id": "358f7166",
   "metadata": {},
   "outputs": [
    {
     "name": "stdout",
     "output_type": "stream",
     "text": [
      "입력: 5 달러\n",
      "5835.0 원\n"
     ]
    }
   ],
   "source": [
    "환율 = {\"달러\": 1167, \n",
    "        \"엔\": 1.096, \n",
    "        \"유로\": 1268, \n",
    "        \"위안\": 171}\n",
    "user = input(\"입력: \")\n",
    "num, currency = user.split()\n",
    "print(float(num) * 환율[currency], \"원\")"
   ]
  },
  {
   "cell_type": "code",
   "execution_count": 77,
   "id": "64d22fd5",
   "metadata": {},
   "outputs": [
    {
     "name": "stdout",
     "output_type": "stream",
     "text": [
      "input number1: 5\n",
      "input number2: 4\n",
      "input number3: 7\n",
      "7\n"
     ]
    }
   ],
   "source": [
    "a = input(\"input number1: \")\n",
    "b = input(\"input number2: \")\n",
    "c = input(\"input number3: \")\n",
    "\n",
    "if a >= b and a>= c:\n",
    "    print(a)\n",
    "elif b >= a and b>= c:\n",
    "    print(b)\n",
    "else:\n",
    "    print(c)"
   ]
  },
  {
   "cell_type": "code",
   "execution_count": 82,
   "id": "826fa9c4",
   "metadata": {},
   "outputs": [
    {
     "name": "stdout",
     "output_type": "stream",
     "text": [
      "휴대전화 번호 입력: 011\n",
      "당신은 SKT 사용자입니다.\n"
     ]
    }
   ],
   "source": [
    "a = input(\"휴대전화 번호 입력: \")\n",
    "if a[:3] == \"011\":\n",
    "    print(\"당신은 SKT 사용자입니다.\")\n",
    "elif a[:3] == \"016\":\n",
    "    print(\"당신은 KT 사용자입니다.\")\n",
    "elif a[:3] == \"019\":\n",
    "    print(\"당신은 LGU 사용자입니다.\")\n",
    "elif a[:3] == \"010\":\n",
    "    print(\"당신은 알 수 없는 사용자입니다.\")\n",
    "else:\n",
    "    print(\"전화번호를 다시 확인하세요\")"
   ]
  },
  {
   "cell_type": "code",
   "execution_count": 106,
   "id": "cedeb894",
   "metadata": {},
   "outputs": [
    {
     "name": "stdout",
     "output_type": "stream",
     "text": [
      "우편번호: 42\n",
      "강북구\n"
     ]
    }
   ],
   "source": [
    "a = input(\"우편번호: \")\n",
    "\n",
    "if a[:3] == \"010\" or \"011\" or \"012\":\n",
    "    print(\"강북구\")\n",
    "elif a[:3] == \"013\" or \"014\" or \"015\":\n",
    "    print(\"도봉구\")\n",
    "elif a[:3] == \"016\" or \"017\" or \"018\" or \"019\":\n",
    "    print(\"노원구\")\n",
    "else:\n",
    "    print(\"우편번호를 확인하세요\")\n",
    "    \n",
    "#실패작"
   ]
  },
  {
   "cell_type": "code",
   "execution_count": 109,
   "id": "1b861e71",
   "metadata": {},
   "outputs": [
    {
     "name": "stdout",
     "output_type": "stream",
     "text": [
      "우편번호: 019\n",
      "노원구\n"
     ]
    }
   ],
   "source": [
    "a = input(\"우편번호: \")\n",
    "a = a[:3]\n",
    "\n",
    "if a in [\"010\", \"011\", \"012\"]:\n",
    "    print(\"강북구\")\n",
    "elif a in [\"013\", \"014\", \"015\"]:\n",
    "    print(\"도봉구\")\n",
    "elif a in [\"016\", \"017\", \"018\", \"019\"]:\n",
    "    print(\"노원구\")\n",
    "else:\n",
    "    print(\"우편번호를 확인하세요\")"
   ]
  },
  {
   "cell_type": "code",
   "execution_count": 115,
   "id": "f5076c40",
   "metadata": {},
   "outputs": [
    {
     "name": "stdout",
     "output_type": "stream",
     "text": [
      "주민등록번호: 901005-2050416\n",
      "여자\n"
     ]
    }
   ],
   "source": [
    "a = input(\"주민등록번호: \")\n",
    "a= a[7]\n",
    "\n",
    "if a in [\"1\", \"3\"]:\n",
    "    print(\"남자\")\n",
    "elif a in [\"2\", \"4\"]:\n",
    "    print(\"여자\")\n",
    "else:\n",
    "    print(\"주민번호를 확인하세요\")"
   ]
  },
  {
   "cell_type": "code",
   "execution_count": null,
   "id": "98fdd9ef",
   "metadata": {},
   "outputs": [],
   "source": [
    "a = input(\"주민등록번호: \")\n",
    "a= a[8:9]\n",
    "\n",
    "if a in []:\n",
    "    print(\"남자\")\n",
    "elif a in [\"2\", \"4\"]:\n",
    "    print(\"여자\")\n",
    "else:\n",
    "    print(\"주민번호를 확인하세요\")"
   ]
  },
  {
   "cell_type": "code",
   "execution_count": 10,
   "id": "f779172f",
   "metadata": {},
   "outputs": [
    {
     "name": "stdout",
     "output_type": "stream",
     "text": [
      "901005-2050416\n",
      "서울이 아닙니다.\n"
     ]
    }
   ],
   "source": [
    "a = input()\n",
    "b = a.split(\"-\")[1]\n",
    "c = int(b[0:2])\n",
    "\n",
    "if 0 <= c <= 8:\n",
    "    print(\"서울입니다.\")\n",
    "else:\n",
    "    print(\"서울이 아닙니다.\")"
   ]
  },
  {
   "cell_type": "code",
   "execution_count": 30,
   "id": "a4c2ab92",
   "metadata": {},
   "outputs": [
    {
     "name": "stdout",
     "output_type": "stream",
     "text": [
      "주민등록번호: 901005-2050416\n",
      "유효하지 않음\n"
     ]
    }
   ],
   "source": [
    "a = input(\"주민등록번호: \")\n",
    "b = a.split(\"-\")[0]\n",
    "c = a.split(\"-\")[1]\n",
    "\n",
    "d = int(b[0])*2+int(b[1])*3+int(b[2])*4+int(b[3])*5+int(b[4])*6+int(b[5])*7+int(c[0])*8+int(c[1])*9+int(c[2])*2+int(c[3])*3+int(c[4])*4+int(c[5])*5\n",
    "\n",
    "e = d % 11\n",
    "\n",
    "if 11 - e == int(c[5]):\n",
    "    print(\"유효\")\n",
    "else:\n",
    "    print(\"유효하지 않음\")"
   ]
  },
  {
   "cell_type": "code",
   "execution_count": 34,
   "id": "29fc9b47",
   "metadata": {},
   "outputs": [
    {
     "name": "stdout",
     "output_type": "stream",
     "text": [
      "상승장\n"
     ]
    }
   ],
   "source": [
    "import requests\n",
    "btc = requests.get(\"https://api.bithumb.com/public/ticker/\").json()['data']\n",
    "\n",
    "변동폭 = float(btc['max_price']) - float(btc['min_price'])\n",
    "시가 = float(btc['opening_price'])\n",
    "최고가 = float(btc['max_price'])\n",
    "\n",
    "if (시가+변동폭) > 최고가:\n",
    "    print(\"상승장\")\n",
    "else:\n",
    "    print(\"하락장\")"
   ]
  },
  {
   "cell_type": "markdown",
   "id": "f256db59",
   "metadata": {},
   "source": [
    "# 131-140"
   ]
  },
  {
   "cell_type": "code",
   "execution_count": 35,
   "id": "e230dfe5",
   "metadata": {},
   "outputs": [
    {
     "name": "stdout",
     "output_type": "stream",
     "text": [
      "사과\n",
      "귤\n",
      "수박\n"
     ]
    }
   ],
   "source": [
    "과일 = [\"사과\", \"귤\", \"수박\"]\n",
    "for 변수 in 과일:\n",
    "    print(변수)"
   ]
  },
  {
   "cell_type": "code",
   "execution_count": 36,
   "id": "f3607229",
   "metadata": {},
   "outputs": [
    {
     "name": "stdout",
     "output_type": "stream",
     "text": [
      "#####\n",
      "#####\n",
      "#####\n"
     ]
    }
   ],
   "source": [
    "과일 = [\"사과\", \"귤\", \"수박\"]\n",
    "for 변수 in 과일:\n",
    "  print(\"#####\")"
   ]
  },
  {
   "cell_type": "code",
   "execution_count": 37,
   "id": "12459715",
   "metadata": {},
   "outputs": [
    {
     "name": "stdout",
     "output_type": "stream",
     "text": [
      "A\n",
      "B\n",
      "C\n"
     ]
    }
   ],
   "source": [
    "for 변수 in [\"A\", \"B\", \"C\"]:\n",
    "  print(변수)"
   ]
  },
  {
   "cell_type": "code",
   "execution_count": 38,
   "id": "4770a3c9",
   "metadata": {},
   "outputs": [
    {
     "name": "stdout",
     "output_type": "stream",
     "text": [
      "A\n",
      "B\n",
      "C\n"
     ]
    }
   ],
   "source": [
    "print(\"A\")\n",
    "print(\"B\")\n",
    "print(\"C\")"
   ]
  },
  {
   "cell_type": "code",
   "execution_count": 39,
   "id": "873bd50b",
   "metadata": {},
   "outputs": [
    {
     "name": "stdout",
     "output_type": "stream",
     "text": [
      "출력: A\n",
      "출력: B\n",
      "출력: C\n"
     ]
    }
   ],
   "source": [
    "for 변수 in [\"A\", \"B\", \"C\"]:\n",
    "  print(\"출력:\", 변수)"
   ]
  },
  {
   "cell_type": "code",
   "execution_count": 40,
   "id": "30de2646",
   "metadata": {},
   "outputs": [
    {
     "name": "stdout",
     "output_type": "stream",
     "text": [
      "출력: A\n",
      "출력: B\n",
      "출력: C\n"
     ]
    }
   ],
   "source": [
    "print(\"출력:\", \"A\")\n",
    "print(\"출력:\", \"B\")\n",
    "print(\"출력:\", \"C\")"
   ]
  },
  {
   "cell_type": "code",
   "execution_count": 41,
   "id": "9492bf69",
   "metadata": {},
   "outputs": [
    {
     "name": "stdout",
     "output_type": "stream",
     "text": [
      "변환: a\n",
      "변환: b\n",
      "변환: c\n"
     ]
    }
   ],
   "source": [
    "for 변수 in [\"A\", \"B\", \"C\"]:\n",
    "  b = 변수.lower()\n",
    "  print(\"변환:\", b)"
   ]
  },
  {
   "cell_type": "code",
   "execution_count": 42,
   "id": "aa2d33a1",
   "metadata": {},
   "outputs": [
    {
     "name": "stdout",
     "output_type": "stream",
     "text": [
      "변환: a\n",
      "변환: b\n",
      "변환: c\n"
     ]
    }
   ],
   "source": [
    "print(\"변환:\", \"a\")\n",
    "print(\"변환:\", \"b\")\n",
    "print(\"변환:\", \"c\")"
   ]
  },
  {
   "cell_type": "code",
   "execution_count": 43,
   "id": "99bdbdef",
   "metadata": {},
   "outputs": [
    {
     "name": "stdout",
     "output_type": "stream",
     "text": [
      "10\n",
      "20\n",
      "30\n"
     ]
    }
   ],
   "source": [
    "변수 = 10\n",
    "print(변수)\n",
    "변수 = 20\n",
    "print(변수)\n",
    "변수 = 30\n",
    "print(변수)"
   ]
  },
  {
   "cell_type": "code",
   "execution_count": 47,
   "id": "3bbbc067",
   "metadata": {},
   "outputs": [
    {
     "name": "stdout",
     "output_type": "stream",
     "text": [
      "10\n",
      "20\n",
      "30\n"
     ]
    }
   ],
   "source": [
    "a = [10, 20, 30]\n",
    "\n",
    "for i in a:\n",
    "    print(i)"
   ]
  },
  {
   "cell_type": "code",
   "execution_count": 48,
   "id": "850ca9df",
   "metadata": {},
   "outputs": [
    {
     "name": "stdout",
     "output_type": "stream",
     "text": [
      "10\n",
      "20\n",
      "30\n"
     ]
    }
   ],
   "source": [
    "print(10)\n",
    "print(20)\n",
    "print(30)"
   ]
  },
  {
   "cell_type": "code",
   "execution_count": 49,
   "id": "576fb6c7",
   "metadata": {},
   "outputs": [
    {
     "name": "stdout",
     "output_type": "stream",
     "text": [
      "10\n",
      "20\n",
      "30\n"
     ]
    }
   ],
   "source": [
    "a = [10, 20, 30]\n",
    "\n",
    "for i in a:\n",
    "    print(i)"
   ]
  },
  {
   "cell_type": "code",
   "execution_count": 50,
   "id": "39bee15e",
   "metadata": {},
   "outputs": [
    {
     "name": "stdout",
     "output_type": "stream",
     "text": [
      "10\n",
      "-------\n",
      "20\n",
      "-------\n",
      "30\n",
      "-------\n"
     ]
    }
   ],
   "source": [
    "print(10)\n",
    "print(\"-------\")\n",
    "print(20)\n",
    "print(\"-------\")\n",
    "print(30)\n",
    "print(\"-------\")"
   ]
  },
  {
   "cell_type": "code",
   "execution_count": 62,
   "id": "3ce454a0",
   "metadata": {
    "scrolled": true
   },
   "outputs": [
    {
     "name": "stdout",
     "output_type": "stream",
     "text": [
      "10\n",
      "--------\n",
      "20\n",
      "--------\n",
      "30\n",
      "--------\n"
     ]
    }
   ],
   "source": [
    "a = [10, 20, 30]\n",
    "\n",
    "for i in a:\n",
    "    print(i)\n",
    "    print((\"-\")*8)"
   ]
  },
  {
   "cell_type": "code",
   "execution_count": 63,
   "id": "5a13ee20",
   "metadata": {},
   "outputs": [
    {
     "name": "stdout",
     "output_type": "stream",
     "text": [
      "++++\n",
      "10\n",
      "20\n",
      "30\n"
     ]
    }
   ],
   "source": [
    "print(\"++++\")\n",
    "print(10)\n",
    "print(20)\n",
    "print(30)"
   ]
  },
  {
   "cell_type": "code",
   "execution_count": 66,
   "id": "f9eb2da4",
   "metadata": {},
   "outputs": [
    {
     "name": "stdout",
     "output_type": "stream",
     "text": [
      "++++\n",
      "10\n",
      "20\n",
      "30\n"
     ]
    }
   ],
   "source": [
    "a = [\"++++\", 10, 20, 30]\n",
    "\n",
    "for i in a:\n",
    "    print(i)"
   ]
  },
  {
   "cell_type": "code",
   "execution_count": 70,
   "id": "2945984e",
   "metadata": {},
   "outputs": [
    {
     "name": "stdout",
     "output_type": "stream",
     "text": [
      "-----\n",
      "-----\n",
      "-----\n",
      "-----\n"
     ]
    }
   ],
   "source": [
    "a = [1, 2, 3, 4]\n",
    "\n",
    "for i in a:\n",
    "    print(\"-----\")"
   ]
  },
  {
   "cell_type": "markdown",
   "id": "e445fe71",
   "metadata": {},
   "source": [
    "# 141-150"
   ]
  },
  {
   "cell_type": "code",
   "execution_count": 72,
   "id": "3aad296f",
   "metadata": {},
   "outputs": [
    {
     "name": "stdout",
     "output_type": "stream",
     "text": [
      "110\n",
      "210\n",
      "310\n"
     ]
    }
   ],
   "source": [
    "리스트 = [100, 200, 300]\n",
    "\n",
    "for i in 리스트:\n",
    "    print(i+10)"
   ]
  },
  {
   "cell_type": "code",
   "execution_count": 73,
   "id": "f3b25882",
   "metadata": {},
   "outputs": [
    {
     "name": "stdout",
     "output_type": "stream",
     "text": [
      "오늘의 메뉴:김밥\n",
      "오늘의 메뉴:라면\n",
      "오늘의 메뉴:튀김\n"
     ]
    }
   ],
   "source": [
    "리스트 = [\"김밥\", \"라면\", \"튀김\"]\n",
    "\n",
    "for i in 리스트:\n",
    "    print(\"오늘의 메뉴:\" + i)"
   ]
  },
  {
   "cell_type": "code",
   "execution_count": 74,
   "id": "df406334",
   "metadata": {},
   "outputs": [
    {
     "name": "stdout",
     "output_type": "stream",
     "text": [
      "6\n",
      "4\n",
      "4\n"
     ]
    }
   ],
   "source": [
    "리스트 = [\"SK하이닉스\", \"삼성전자\", \"LG전자\"]\n",
    "\n",
    "for i in 리스트:\n",
    "    print(len(i))"
   ]
  },
  {
   "cell_type": "code",
   "execution_count": 78,
   "id": "809ab024",
   "metadata": {},
   "outputs": [
    {
     "name": "stdout",
     "output_type": "stream",
     "text": [
      "dog3\n",
      "cat3\n",
      "parrot6\n"
     ]
    }
   ],
   "source": [
    "리스트 = ['dog', 'cat', 'parrot']\n",
    "\n",
    "for i in 리스트:\n",
    "    print(i + str(len(i)))"
   ]
  },
  {
   "cell_type": "code",
   "execution_count": 79,
   "id": "348563ed",
   "metadata": {},
   "outputs": [
    {
     "name": "stdout",
     "output_type": "stream",
     "text": [
      "d\n",
      "c\n",
      "p\n"
     ]
    }
   ],
   "source": [
    "리스트 = ['dog', 'cat', 'parrot']\n",
    "\n",
    "for i in 리스트:\n",
    "    print(i[0])"
   ]
  },
  {
   "cell_type": "code",
   "execution_count": 81,
   "id": "de23d575",
   "metadata": {},
   "outputs": [
    {
     "name": "stdout",
     "output_type": "stream",
     "text": [
      "3 x1\n",
      "3 x2\n",
      "3 x3\n"
     ]
    }
   ],
   "source": [
    "리스트 = [1, 2, 3]\n",
    "\n",
    "for i in 리스트:\n",
    "    print(\"3 x\" + str(i))"
   ]
  },
  {
   "cell_type": "code",
   "execution_count": 88,
   "id": "05f266c4",
   "metadata": {},
   "outputs": [
    {
     "name": "stdout",
     "output_type": "stream",
     "text": [
      "3 x 1 = 3\n",
      "3 x 2 = 6\n",
      "3 x 3 = 9\n"
     ]
    }
   ],
   "source": [
    "리스트 = [1, 2, 3]\n",
    "\n",
    "for i in 리스트:\n",
    "    print(\"3 x \" + str(i) + \" = \" + str(3*i))"
   ]
  },
  {
   "cell_type": "code",
   "execution_count": 93,
   "id": "8edab2de",
   "metadata": {},
   "outputs": [
    {
     "name": "stdout",
     "output_type": "stream",
     "text": [
      "나\n",
      "다\n",
      "라\n"
     ]
    }
   ],
   "source": [
    "리스트 = [\"가\", \"나\", \"다\", \"라\"]\n",
    "\n",
    "for i in 리스트[1:]:\n",
    "    print(i)"
   ]
  },
  {
   "cell_type": "code",
   "execution_count": 94,
   "id": "fc14490f",
   "metadata": {},
   "outputs": [
    {
     "name": "stdout",
     "output_type": "stream",
     "text": [
      "가\n",
      "다\n"
     ]
    }
   ],
   "source": [
    "리스트 = [\"가\", \"나\", \"다\", \"라\"]\n",
    "\n",
    "for i in 리스트[0::2]:\n",
    "    print(i)"
   ]
  },
  {
   "cell_type": "code",
   "execution_count": 100,
   "id": "a6a2131d",
   "metadata": {},
   "outputs": [
    {
     "name": "stdout",
     "output_type": "stream",
     "text": [
      "라\n",
      "다\n",
      "나\n",
      "가\n"
     ]
    }
   ],
   "source": [
    "리스트 = [\"가\", \"나\", \"다\", \"라\"]\n",
    "\n",
    "for i in 리스트[::-1]:\n",
    "    print(i)"
   ]
  },
  {
   "cell_type": "code",
   "execution_count": null,
   "id": "188def56",
   "metadata": {},
   "outputs": [],
   "source": []
  }
 ],
 "metadata": {
  "kernelspec": {
   "display_name": "Python 3 (ipykernel)",
   "language": "python",
   "name": "python3"
  },
  "language_info": {
   "codemirror_mode": {
    "name": "ipython",
    "version": 3
   },
   "file_extension": ".py",
   "mimetype": "text/x-python",
   "name": "python",
   "nbconvert_exporter": "python",
   "pygments_lexer": "ipython3",
   "version": "3.11.5"
  }
 },
 "nbformat": 4,
 "nbformat_minor": 5
}

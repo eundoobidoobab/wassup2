{
 "cells": [
  {
   "cell_type": "markdown",
   "metadata": {},
   "source": [
    "# 전화번호 프로그램 만들기\n",
    "\n",
    "* 홍길동 010-123-4567\n",
    "* 기능1 : 연락처 추가\n",
    "* 기능2 : 연락처 전체 보기\n",
    "* 기능3 : 검색, 이름을 입력받아서 전화번호 조회\n",
    "* 기능4 : 수정, 이름을 입력받아서 전화번호 입력수정\n",
    "* 기능5 : 삭제, 이름 입력받아서 삭제\n",
    "* 기능6 : 프로그램 종료"
   ]
  },
  {
   "cell_type": "code",
   "execution_count": 62,
   "metadata": {},
   "outputs": [],
   "source": [
    "a = {}\n",
    "\n",
    "# 기능1 : 연락처 추가\n",
    "a['홍길동'] = '010-123-4567'"
   ]
  },
  {
   "cell_type": "code",
   "execution_count": 63,
   "metadata": {},
   "outputs": [
    {
     "data": {
      "text/plain": [
       "dict_items([('홍길동', '010-123-4567')])"
      ]
     },
     "execution_count": 63,
     "metadata": {},
     "output_type": "execute_result"
    }
   ],
   "source": [
    "# 기능2 : 연락처 전체 보기\n",
    "\n",
    "a.items()"
   ]
  },
  {
   "cell_type": "code",
   "execution_count": 64,
   "metadata": {},
   "outputs": [
    {
     "name": "stdout",
     "output_type": "stream",
     "text": [
      "이름: 홍길동\n",
      "010-123-4567\n"
     ]
    }
   ],
   "source": [
    "# 기능3 : 검색, 이름을 입력받아서 전화번호 조회\n",
    "\n",
    "name = input(\"이름: \")\n",
    "if name in a:\n",
    "    print(a.get(name))"
   ]
  },
  {
   "cell_type": "code",
   "execution_count": 65,
   "metadata": {},
   "outputs": [
    {
     "name": "stdout",
     "output_type": "stream",
     "text": [
      "이름: 홍길동\n",
      "{'홍길동': '010-123-4567'}\n",
      "수정할 전화번호: 333-333-3333\n",
      "전화번호가 수정되었습니다.\n"
     ]
    }
   ],
   "source": [
    "# 기능4 : 수정, 이름을 입력받아서 전화번호 입력수정\n",
    "\n",
    "name = input(\"이름: \")\n",
    "if name in a:\n",
    "    print(a)\n",
    "    del a[name]\n",
    "    num = input('수정할 전화번호: ')\n",
    "    a[name] = num\n",
    "    print('전화번호가 수정되었습니다.')\n",
    "else:\n",
    "     print('해당 이름이 없습니다.')"
   ]
  },
  {
   "cell_type": "code",
   "execution_count": 66,
   "metadata": {},
   "outputs": [
    {
     "name": "stdout",
     "output_type": "stream",
     "text": [
      "이름: 홍길동\n",
      "{'홍길동': '333-333-3333'}\n",
      "전화번호를 삭제하시겠습니까?\n",
      "yes 또는 no로 입력해 주세요: yes\n",
      "전화번호가 삭제되었습니다.\n",
      "{}\n"
     ]
    }
   ],
   "source": [
    "# 기능5 : 삭제, 이름 입력받아서 삭제\n",
    "\n",
    "name = input(\"이름: \")\n",
    "if name in a:\n",
    "    print(a)\n",
    "    print(\"전화번호를 삭제하시겠습니까?\")\n",
    "    yn = input('yes 또는 no로 입력해 주세요: ')\n",
    "    if yn == 'yes':\n",
    "            del a[name]\n",
    "            print('전화번호가 삭제되었습니다.')\n",
    "            print(a)\n",
    "    else:\n",
    "        print('전화번호가 삭제되지 않았습니다.')\n",
    "else:\n",
    "     print('해당 이름이 없습니다.')"
   ]
  },
  {
   "cell_type": "code",
   "execution_count": 67,
   "metadata": {},
   "outputs": [],
   "source": [
    "# 기능6 : 프로그램 종료"
   ]
  },
  {
   "cell_type": "code",
   "execution_count": 86,
   "metadata": {},
   "outputs": [
    {
     "name": "stdout",
     "output_type": "stream",
     "text": [
      "기능1 : 연락처 추가\n",
      "기능2 : 연락처 전체 보기\n",
      "기능3 : 검색, 이름을 입력받아서 전화번호 조회\n",
      "기능4 : 수정, 이름을 입력받아서 전화번호 입력수정\n",
      "기능5 : 삭제, 이름 입력받아서 삭제\n",
      "기능6 : 프로그램 종료\n",
      "원하시는 기능의 숫자를 입력하세요.1\n"
     ]
    }
   ],
   "source": [
    "\n",
    "print(\n",
    "    \"기능1 : 연락처 추가\\n\"\n",
    "    \"기능2 : 연락처 전체 보기\\n\"   \n",
    "    \"기능3 : 검색, 이름을 입력받아서 전화번호 조회\\n\"   \n",
    "    \"기능4 : 수정, 이름을 입력받아서 전화번호 입력수정\\n\"\n",
    "    \"기능5 : 삭제, 이름 입력받아서 삭제\\n\"\n",
    "    \"기능6 : 프로그램 종료\")\n",
    "\n",
    "a = input(\"원하시는 기능의 숫자를 입력하세요.\")\n",
    "num = {\"홍길동\" : \"010-123-4567\"}\n",
    "\n",
    "while True:\n",
    "    num['홍길동'] = '010-123-4567'"
   ]
  },
  {
   "cell_type": "code",
   "execution_count": 87,
   "metadata": {},
   "outputs": [
    {
     "data": {
      "text/plain": [
       "'기능6 : 프로그램 종료'"
      ]
     },
     "execution_count": 87,
     "metadata": {},
     "output_type": "execute_result"
    }
   ],
   "source": [
    "        \"기능2 : 연락처 전체 보기\"\n",
    "        \"기능3 : 검색, 이름을 입력받아서 전화번호 조회\"\n",
    "        \"기능4 : 수정, 이름을 입력받아서 전화번호 입력수정\"\n",
    "        \"기능5 : 삭제, 이름 입력받아서 삭제\"\n",
    "        \"기능6 : 프로그램 종료\""
   ]
  },
  {
   "cell_type": "code",
   "execution_count": 117,
   "metadata": {},
   "outputs": [
    {
     "ename": "SyntaxError",
     "evalue": "invalid syntax (1784594273.py, line 37)",
     "output_type": "error",
     "traceback": [
      "\u001b[1;36m  Cell \u001b[1;32mIn[117], line 37\u001b[1;36m\u001b[0m\n\u001b[1;33m    contact.[mod_name] = mod_tel\u001b[0m\n\u001b[1;37m            ^\u001b[0m\n\u001b[1;31mSyntaxError\u001b[0m\u001b[1;31m:\u001b[0m invalid syntax\n"
     ]
    }
   ],
   "source": [
    "contact = {}\n",
    "\n",
    "\n",
    "while True:\n",
    "    print('-'*10 + \"전화번호부 프로그램\" + '-'*10)\n",
    "    print('1. 추가    2. 보기    3. 검색    3. 수정    4. 삭제    9. 종료')\n",
    "    \n",
    "    menu = input('메뉴를 선택해 주세요(숫자 only)')\n",
    "    \n",
    "    if menu == \"1\":\n",
    "        print(\"연락처를 추가합니다.\")\n",
    "        new_name = input(\"이름: \")\n",
    "        new_tel = input(\"전화번호: \")\n",
    "        print(new_name, new_tel)\n",
    "        #contact[new_name] = new_tel  이건 덮어쓰기 되므로 쓰면 안됨\n",
    "        contact.setdefault(new_name, new_tel)\n",
    "        print('='*40)\n",
    "        print(contact)\n",
    "        \n",
    "    elif menu == \"2\":\n",
    "        print(\"연락처를 모두 조회합니다.\")\n",
    "        for name, tel in contact.items():\n",
    "            print(name, \":\", tel)\n",
    "        \n",
    "    elif menu == \"3\":\n",
    "        print(\"연락처를 검색합니다.\")\n",
    "        search_name = input(\"이름: \")\n",
    "        #print(contact[search_name])\n",
    "        print(contact.get(search_name, '없는 연락처입니다.'))\n",
    "    \n",
    "    \n",
    "    elif menu == \"4\":\n",
    "        print(\"연락처를 수정합니다.\")\n",
    "        mod_name = input('수정 이름: ') # 연락처가 이씅ㄹ 경우에만 새 전화번호를 묻는 게 좋다\n",
    "        \n",
    "        mod_tel = input('새 전화번호: ')\n",
    "        contact.[mod_name] = mod_tel\n",
    "        \n",
    "        if mod_name in contact:\n",
    "            mod_tel = input('새 전화번호: ')\n",
    "            contact.[mod_name] = mod_tel\n",
    "        else:\n",
    "            print(\"등록되지 않은 이름입니다.\")\n",
    "    \n",
    "    elif menu == \"5\":\n",
    "        print(\"연락처를 삭제합니다.\")\n",
    "        del_name = input('삭제 이름: ')\n",
    "        if del_name in contact:\n",
    "    \n",
    "    elif menu == \"9\":\n",
    "        print(\"프로그램을 종료합니다.\")\n",
    "        break\n",
    "    \n",
    "    else:\n",
    "        print(\"잘못된 입력입니다.\")"
   ]
  },
  {
   "cell_type": "code",
   "execution_count": null,
   "metadata": {},
   "outputs": [],
   "source": [
    "#"
   ]
  }
 ],
 "metadata": {
  "kernelspec": {
   "display_name": "Python 3 (ipykernel)",
   "language": "python",
   "name": "python3"
  },
  "language_info": {
   "codemirror_mode": {
    "name": "ipython",
    "version": 3
   },
   "file_extension": ".py",
   "mimetype": "text/x-python",
   "name": "python",
   "nbconvert_exporter": "python",
   "pygments_lexer": "ipython3",
   "version": "3.11.5"
  },
  "toc": {
   "base_numbering": 1,
   "nav_menu": {},
   "number_sections": true,
   "sideBar": true,
   "skip_h1_title": false,
   "title_cell": "Table of Contents",
   "title_sidebar": "Contents",
   "toc_cell": false,
   "toc_position": {},
   "toc_section_display": true,
   "toc_window_display": false
  },
  "varInspector": {
   "cols": {
    "lenName": 16,
    "lenType": 16,
    "lenVar": 40
   },
   "kernels_config": {
    "python": {
     "delete_cmd_postfix": "",
     "delete_cmd_prefix": "del ",
     "library": "var_list.py",
     "varRefreshCmd": "print(var_dic_list())"
    },
    "r": {
     "delete_cmd_postfix": ") ",
     "delete_cmd_prefix": "rm(",
     "library": "var_list.r",
     "varRefreshCmd": "cat(var_dic_list()) "
    }
   },
   "types_to_exclude": [
    "module",
    "function",
    "builtin_function_or_method",
    "instance",
    "_Feature"
   ],
   "window_display": false
  }
 },
 "nbformat": 4,
 "nbformat_minor": 2
}
